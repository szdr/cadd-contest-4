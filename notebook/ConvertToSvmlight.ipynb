{
 "cells": [
  {
   "cell_type": "code",
   "execution_count": 1,
   "metadata": {
    "collapsed": false
   },
   "outputs": [],
   "source": [
    "import numpy as np\n",
    "import pandas as pd\n",
    "from rdkit import DataStructs\n",
    "from rdkit.Chem import AllChem as Chem\n",
    "from rdkit.Chem import Descriptors\n",
    "from sklearn.datasets import dump_svmlight_file"
   ]
  },
  {
   "cell_type": "code",
   "execution_count": 2,
   "metadata": {
    "collapsed": true
   },
   "outputs": [],
   "source": [
    "df = pd.read_csv(\"../output/Chembl_bioactivity_SIRT1_cleaned.csv\")"
   ]
  },
  {
   "cell_type": "code",
   "execution_count": 3,
   "metadata": {
    "collapsed": true
   },
   "outputs": [],
   "source": [
    "\"\"\"\n",
    "feature\n",
    "* ECFP4\n",
    "* rdkit descriptor\n",
    "\"\"\"\n",
    "def get_desc_names():\n",
    "    ret = []\n",
    "    for desc_name, _ in Descriptors.descList:\n",
    "        if \"Charge\" in desc_name:\n",
    "            continue\n",
    "        ret.append(desc_name)\n",
    "    return ret\n",
    "\n",
    "def get_feature_names():\n",
    "    ecfp4_names = [\"ECFP4_{}\".format(i + 1) for i in range(2048)]\n",
    "    desc_names = get_desc_names()\n",
    "    feature_names = ecfp4_names + desc_names\n",
    "    return feature_names\n",
    "\n",
    "def smiles2feature(smiles, desc_names):\n",
    "    mol = Chem.MolFromSmiles(smiles)\n",
    "    # ECFP4\n",
    "    ecfp4 = Chem.GetMorganFingerprintAsBitVect(mol, radius=2, nBits=2048)\n",
    "    ecfp4_arr = np.zeros((1, ))\n",
    "    DataStructs.ConvertToNumpyArray(ecfp4, ecfp4_arr)\n",
    "    ret = {}\n",
    "    for i, bit in enumerate(ecfp4_arr):\n",
    "        ret[\"ECFP4_{}\".format(i + 1)] = int(bit)\n",
    "    \n",
    "    # Descriptor\n",
    "    desc_name_set = set(get_desc_names())\n",
    "    for desc_name, desc_func in Descriptors.descList:\n",
    "        if desc_name not in desc_name_set:\n",
    "            continue\n",
    "        ret[desc_name] = desc_func(mol)\n",
    "        \n",
    "    return ret"
   ]
  },
  {
   "cell_type": "code",
   "execution_count": 4,
   "metadata": {
    "collapsed": false
   },
   "outputs": [
    {
     "data": {
      "text/plain": [
       "Index(['CMPD_CHEMBLID', 'DOC_CHEMBLID', 'CANONICAL_SMILES', 'STANDARD_TYPE',\n",
       "       'RELATION', 'STANDARD_VALUE', 'STANDARD_UNITS', 'relevance', 'qid'],\n",
       "      dtype='object')"
      ]
     },
     "execution_count": 4,
     "metadata": {},
     "output_type": "execute_result"
    }
   ],
   "source": [
    "df.columns"
   ]
  },
  {
   "cell_type": "code",
   "execution_count": 5,
   "metadata": {
    "collapsed": false
   },
   "outputs": [],
   "source": [
    "desc_names = get_desc_names()\n",
    "feature_data_dict = {row[1][\"CMPD_CHEMBLID\"]: smiles2feature(row[1][\"CANONICAL_SMILES\"], desc_names) for row in df.iterrows()}"
   ]
  },
  {
   "cell_type": "code",
   "execution_count": 6,
   "metadata": {
    "collapsed": false
   },
   "outputs": [],
   "source": [
    "df_feature = pd.DataFrame.from_dict(feature_data_dict, orient=\"index\")\n",
    "df_feature[\"CMPD_CHEMBLID\"] = df_feature.index"
   ]
  },
  {
   "cell_type": "code",
   "execution_count": 7,
   "metadata": {
    "collapsed": false
   },
   "outputs": [],
   "source": [
    "df_merged = pd.merge(df, df_feature, on=\"CMPD_CHEMBLID\")"
   ]
  },
  {
   "cell_type": "code",
   "execution_count": 8,
   "metadata": {
    "collapsed": false
   },
   "outputs": [
    {
     "data": {
      "text/html": [
       "<div>\n",
       "<table border=\"1\" class=\"dataframe\">\n",
       "  <thead>\n",
       "    <tr style=\"text-align: right;\">\n",
       "      <th></th>\n",
       "      <th>CMPD_CHEMBLID</th>\n",
       "      <th>DOC_CHEMBLID</th>\n",
       "      <th>CANONICAL_SMILES</th>\n",
       "      <th>STANDARD_TYPE</th>\n",
       "      <th>RELATION</th>\n",
       "      <th>STANDARD_VALUE</th>\n",
       "      <th>STANDARD_UNITS</th>\n",
       "      <th>relevance</th>\n",
       "      <th>qid</th>\n",
       "      <th>ECFP4_1</th>\n",
       "      <th>...</th>\n",
       "      <th>fr_sulfide</th>\n",
       "      <th>fr_sulfonamd</th>\n",
       "      <th>fr_sulfone</th>\n",
       "      <th>fr_term_acetylene</th>\n",
       "      <th>fr_tetrazole</th>\n",
       "      <th>fr_thiazole</th>\n",
       "      <th>fr_thiocyan</th>\n",
       "      <th>fr_thiophene</th>\n",
       "      <th>fr_unbrch_alkane</th>\n",
       "      <th>fr_urea</th>\n",
       "    </tr>\n",
       "  </thead>\n",
       "  <tbody>\n",
       "    <tr>\n",
       "      <th>0</th>\n",
       "      <td>CHEMBL3311063</td>\n",
       "      <td>CHEMBL3351989</td>\n",
       "      <td>CCOc1ccccc1c2nn3c(nnc3s2)c4occc4</td>\n",
       "      <td>IC50</td>\n",
       "      <td>=</td>\n",
       "      <td>23600.0</td>\n",
       "      <td>nM</td>\n",
       "      <td>4.627088</td>\n",
       "      <td>1154</td>\n",
       "      <td>0</td>\n",
       "      <td>...</td>\n",
       "      <td>0</td>\n",
       "      <td>0</td>\n",
       "      <td>0</td>\n",
       "      <td>0</td>\n",
       "      <td>0</td>\n",
       "      <td>0</td>\n",
       "      <td>0</td>\n",
       "      <td>0</td>\n",
       "      <td>0</td>\n",
       "      <td>0</td>\n",
       "    </tr>\n",
       "    <tr>\n",
       "      <th>1</th>\n",
       "      <td>CHEMBL3233748</td>\n",
       "      <td>CHEMBL3232806</td>\n",
       "      <td>CC(C)c1ccc(cc1)C2=C(Cc3c(O)ccc4nc(Cl)ccc34)C(=...</td>\n",
       "      <td>IC50</td>\n",
       "      <td>=</td>\n",
       "      <td>21000.0</td>\n",
       "      <td>nM</td>\n",
       "      <td>4.677781</td>\n",
       "      <td>119</td>\n",
       "      <td>0</td>\n",
       "      <td>...</td>\n",
       "      <td>0</td>\n",
       "      <td>0</td>\n",
       "      <td>0</td>\n",
       "      <td>0</td>\n",
       "      <td>0</td>\n",
       "      <td>0</td>\n",
       "      <td>0</td>\n",
       "      <td>0</td>\n",
       "      <td>0</td>\n",
       "      <td>0</td>\n",
       "    </tr>\n",
       "    <tr>\n",
       "      <th>2</th>\n",
       "      <td>CHEMBL3233748</td>\n",
       "      <td>CHEMBL3232806</td>\n",
       "      <td>CC(C)c1ccc(cc1)C2=C(Cc3c(O)ccc4nc(Cl)ccc34)C(=...</td>\n",
       "      <td>Inhibition</td>\n",
       "      <td>=</td>\n",
       "      <td>85.0</td>\n",
       "      <td>%</td>\n",
       "      <td>85.000000</td>\n",
       "      <td>129</td>\n",
       "      <td>0</td>\n",
       "      <td>...</td>\n",
       "      <td>0</td>\n",
       "      <td>0</td>\n",
       "      <td>0</td>\n",
       "      <td>0</td>\n",
       "      <td>0</td>\n",
       "      <td>0</td>\n",
       "      <td>0</td>\n",
       "      <td>0</td>\n",
       "      <td>0</td>\n",
       "      <td>0</td>\n",
       "    </tr>\n",
       "    <tr>\n",
       "      <th>3</th>\n",
       "      <td>CHEMBL3408982</td>\n",
       "      <td>CHEMBL3407343</td>\n",
       "      <td>CCCCCCCCn1c2CCN(CCO)Cc2c3cc(ccc13)c4cnc(N)nc4</td>\n",
       "      <td>IC50</td>\n",
       "      <td>NaN</td>\n",
       "      <td>NaN</td>\n",
       "      <td>NaN</td>\n",
       "      <td>0.000000</td>\n",
       "      <td>1148</td>\n",
       "      <td>0</td>\n",
       "      <td>...</td>\n",
       "      <td>0</td>\n",
       "      <td>0</td>\n",
       "      <td>0</td>\n",
       "      <td>0</td>\n",
       "      <td>0</td>\n",
       "      <td>0</td>\n",
       "      <td>0</td>\n",
       "      <td>0</td>\n",
       "      <td>4</td>\n",
       "      <td>0</td>\n",
       "    </tr>\n",
       "    <tr>\n",
       "      <th>4</th>\n",
       "      <td>CHEMBL1140</td>\n",
       "      <td>CHEMBL3390834</td>\n",
       "      <td>NC(=O)c1cccnc1</td>\n",
       "      <td>IC50</td>\n",
       "      <td>=</td>\n",
       "      <td>25000.0</td>\n",
       "      <td>nM</td>\n",
       "      <td>4.602060</td>\n",
       "      <td>1118</td>\n",
       "      <td>0</td>\n",
       "      <td>...</td>\n",
       "      <td>0</td>\n",
       "      <td>0</td>\n",
       "      <td>0</td>\n",
       "      <td>0</td>\n",
       "      <td>0</td>\n",
       "      <td>0</td>\n",
       "      <td>0</td>\n",
       "      <td>0</td>\n",
       "      <td>0</td>\n",
       "      <td>0</td>\n",
       "    </tr>\n",
       "  </tbody>\n",
       "</table>\n",
       "<p>5 rows × 2249 columns</p>\n",
       "</div>"
      ],
      "text/plain": [
       "   CMPD_CHEMBLID   DOC_CHEMBLID  \\\n",
       "0  CHEMBL3311063  CHEMBL3351989   \n",
       "1  CHEMBL3233748  CHEMBL3232806   \n",
       "2  CHEMBL3233748  CHEMBL3232806   \n",
       "3  CHEMBL3408982  CHEMBL3407343   \n",
       "4     CHEMBL1140  CHEMBL3390834   \n",
       "\n",
       "                                    CANONICAL_SMILES STANDARD_TYPE RELATION  \\\n",
       "0                   CCOc1ccccc1c2nn3c(nnc3s2)c4occc4          IC50        =   \n",
       "1  CC(C)c1ccc(cc1)C2=C(Cc3c(O)ccc4nc(Cl)ccc34)C(=...          IC50        =   \n",
       "2  CC(C)c1ccc(cc1)C2=C(Cc3c(O)ccc4nc(Cl)ccc34)C(=...    Inhibition        =   \n",
       "3      CCCCCCCCn1c2CCN(CCO)Cc2c3cc(ccc13)c4cnc(N)nc4          IC50      NaN   \n",
       "4                                     NC(=O)c1cccnc1          IC50        =   \n",
       "\n",
       "   STANDARD_VALUE STANDARD_UNITS  relevance   qid  ECFP4_1   ...     \\\n",
       "0         23600.0             nM   4.627088  1154        0   ...      \n",
       "1         21000.0             nM   4.677781   119        0   ...      \n",
       "2            85.0              %  85.000000   129        0   ...      \n",
       "3             NaN            NaN   0.000000  1148        0   ...      \n",
       "4         25000.0             nM   4.602060  1118        0   ...      \n",
       "\n",
       "   fr_sulfide  fr_sulfonamd  fr_sulfone  fr_term_acetylene  fr_tetrazole  \\\n",
       "0           0             0           0                  0             0   \n",
       "1           0             0           0                  0             0   \n",
       "2           0             0           0                  0             0   \n",
       "3           0             0           0                  0             0   \n",
       "4           0             0           0                  0             0   \n",
       "\n",
       "   fr_thiazole  fr_thiocyan  fr_thiophene  fr_unbrch_alkane  fr_urea  \n",
       "0            0            0             0                 0        0  \n",
       "1            0            0             0                 0        0  \n",
       "2            0            0             0                 0        0  \n",
       "3            0            0             0                 4        0  \n",
       "4            0            0             0                 0        0  \n",
       "\n",
       "[5 rows x 2249 columns]"
      ]
     },
     "execution_count": 8,
     "metadata": {},
     "output_type": "execute_result"
    }
   ],
   "source": [
    "df_merged.head()"
   ]
  },
  {
   "cell_type": "code",
   "execution_count": 9,
   "metadata": {
    "collapsed": true
   },
   "outputs": [],
   "source": [
    "df_merged_sorted_by_qid = df_merged.sort_values(by=\"qid\")"
   ]
  },
  {
   "cell_type": "code",
   "execution_count": 10,
   "metadata": {
    "collapsed": true
   },
   "outputs": [],
   "source": [
    "feature_names = get_feature_names()\n",
    "X = df_merged_sorted_by_qid[feature_names].as_matrix()\n",
    "ys = df_merged_sorted_by_qid[[\"relevance\"]].as_matrix().flatten()\n",
    "qid = df_merged_sorted_by_qid[[\"qid\"]].as_matrix()"
   ]
  },
  {
   "cell_type": "code",
   "execution_count": 11,
   "metadata": {
    "collapsed": false
   },
   "outputs": [
    {
     "name": "stdout",
     "output_type": "stream",
     "text": [
      "(1131, 2240) (1131,) (1131, 1)\n"
     ]
    }
   ],
   "source": [
    "print(X.shape, ys.shape, qid.shape)"
   ]
  },
  {
   "cell_type": "code",
   "execution_count": 12,
   "metadata": {
    "collapsed": false
   },
   "outputs": [],
   "source": [
    "dump_svmlight_file(X, ys, \"notebook_test.svmlight\", query_id=qid)"
   ]
  },
  {
   "cell_type": "code",
   "execution_count": 13,
   "metadata": {
    "collapsed": false
   },
   "outputs": [
    {
     "data": {
      "text/plain": [
       "92"
      ]
     },
     "execution_count": 13,
     "metadata": {},
     "output_type": "execute_result"
    }
   ],
   "source": [
    "df_merged_sorted_by_qid.qid.drop_duplicates().count()"
   ]
  },
  {
   "cell_type": "code",
   "execution_count": 22,
   "metadata": {
    "collapsed": false
   },
   "outputs": [
    {
     "data": {
      "text/plain": [
       "Index(['CMPD_CHEMBLID', 'DOC_CHEMBLID', 'CANONICAL_SMILES', 'STANDARD_TYPE',\n",
       "       'RELATION', 'STANDARD_VALUE', 'STANDARD_UNITS', 'relevance', 'qid',\n",
       "       'ECFP4_1',\n",
       "       ...\n",
       "       'fr_sulfide', 'fr_sulfonamd', 'fr_sulfone', 'fr_term_acetylene',\n",
       "       'fr_tetrazole', 'fr_thiazole', 'fr_thiocyan', 'fr_thiophene',\n",
       "       'fr_unbrch_alkane', 'fr_urea'],\n",
       "      dtype='object', length=2249)"
      ]
     },
     "execution_count": 22,
     "metadata": {},
     "output_type": "execute_result"
    }
   ],
   "source": [
    "df_merged.columns"
   ]
  },
  {
   "cell_type": "code",
   "execution_count": 23,
   "metadata": {
    "collapsed": false
   },
   "outputs": [
    {
     "data": {
      "text/plain": [
       "2240"
      ]
     },
     "execution_count": 23,
     "metadata": {},
     "output_type": "execute_result"
    }
   ],
   "source": [
    "len(feature_names)"
   ]
  },
  {
   "cell_type": "code",
   "execution_count": 26,
   "metadata": {
    "collapsed": false
   },
   "outputs": [
    {
     "data": {
      "text/plain": [
       "count    1131.000000\n",
       "mean        0.022989\n",
       "std         0.149933\n",
       "min         0.000000\n",
       "25%         0.000000\n",
       "50%         0.000000\n",
       "75%         0.000000\n",
       "max         1.000000\n",
       "Name: fr_urea, dtype: float64"
      ]
     },
     "execution_count": 26,
     "metadata": {},
     "output_type": "execute_result"
    }
   ],
   "source": [
    "df_merged.fr_urea.describe()"
   ]
  },
  {
   "cell_type": "code",
   "execution_count": null,
   "metadata": {
    "collapsed": true
   },
   "outputs": [],
   "source": []
  }
 ],
 "metadata": {
  "kernelspec": {
   "display_name": "Python 3",
   "language": "python",
   "name": "python3"
  },
  "language_info": {
   "codemirror_mode": {
    "name": "ipython",
    "version": 3
   },
   "file_extension": ".py",
   "mimetype": "text/x-python",
   "name": "python",
   "nbconvert_exporter": "python",
   "pygments_lexer": "ipython3",
   "version": "3.6.0"
  }
 },
 "nbformat": 4,
 "nbformat_minor": 2
}
